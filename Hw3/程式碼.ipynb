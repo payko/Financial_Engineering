{
 "cells": [
  {
   "cell_type": "code",
   "execution_count": 8,
   "metadata": {},
   "outputs": [],
   "source": [
    "import math"
   ]
  },
  {
   "cell_type": "code",
   "execution_count": 9,
   "metadata": {},
   "outputs": [],
   "source": [
    "def callpayoff(S):\n",
    "    if S >= K:\n",
    "        return S - K\n",
    "    else:\n",
    "        return 0\n",
    "def putpayoff(S):\n",
    "    if S <= K:\n",
    "        return K - S\n",
    "    else:\n",
    "        return 0"
   ]
  },
  {
   "cell_type": "markdown",
   "metadata": {},
   "source": [
    "## 請在此輸入所需資訊▼"
   ]
  },
  {
   "cell_type": "code",
   "execution_count": 10,
   "metadata": {},
   "outputs": [
    {
     "name": "stdout",
     "output_type": "stream",
     "text": [
      "Please enter below information:\n",
      "Please enter the Stock Price(S):160\n",
      "Please enter the Strike Price(X):150\n",
      "Please enter the countinuously compouded riskless rate(例10%請輸入10):18.232\n",
      "Please enter the Upper Moving Rate(u):1.5\n",
      "Please enter the Downward Moving Rate(d):0.5\n",
      "Please enter the number of periods(n)3\n"
     ]
    }
   ],
   "source": [
    "print(\"Please enter below information:\")\n",
    "S0 = float(input(\"Please enter the Stock Price(S):\"))\n",
    "K = float(input(\"Please enter the Strike Price(X):\"))\n",
    "r = float(input(\"Please enter the countinuously compouded riskless rate(例10%請輸入10):\"))\n",
    "u = float(input(\"Please enter the Upper Moving Rate(u):\"))\n",
    "d = float(input(\"Please enter the Downward Moving Rate(d):\"))\n",
    "n = int(input(\"Please enter the number of periods(n)\"))\n",
    "r = r/100\n",
    "R = round(math.exp(r),2)\n",
    "prob = (R - d)/(u - d)"
   ]
  },
  {
   "cell_type": "code",
   "execution_count": 17,
   "metadata": {},
   "outputs": [],
   "source": [
    "S = []\n",
    "c = []\n",
    "p = []\n",
    "for t in range(n + 1):\n",
    "    S.append([0])\n",
    "    c.append([0])\n",
    "    p.append([0])\n",
    "    for j in range(t + 1):\n",
    "        tmp = math.log(S0) + (t - j) * math.log(u) + j * math.log(d)\n",
    "        tmp = math.exp(tmp)\n",
    "        S[t].append(tmp)\n",
    "        c[t].append(0)\n",
    "        p[t].append(0)\n",
    "\n",
    "for j in range(n + 2):\n",
    "    c[n][j] = callpayoff(S[n][j])\n",
    "    p[n][j] = putpayoff(S[n][j])\n",
    "\n",
    "for t in range(1, n + 1):\n",
    "    i = n - t\n",
    "    for j in range(1, i + 2):\n",
    "        tmp = prob * c[i + 1][j] + (1 - prob) * c[i + 1][j + 1]\n",
    "        tmp = tmp / R\n",
    "        c[i][j] = tmp\n",
    "\n",
    "        tmp = prob * p[i + 1][j] + (1 - prob) * p[i + 1][j + 1]\n",
    "        tmp = tmp / R\n",
    "        p[i][j] = tmp\n",
    "\n",
    "ansCRR_EUcall = c[0][1]\n",
    "ansCRR_EUput = p[0][1]"
   ]
  },
  {
   "cell_type": "markdown",
   "metadata": {},
   "source": [
    "## 輸出計算結果▼"
   ]
  },
  {
   "cell_type": "code",
   "execution_count": null,
   "metadata": {},
   "outputs": [],
   "source": [
    "print(\"CRR for European call: %2.8f\" % ansCRR_EUcall)\n",
    "print(\"    for European put: %2.8f\" % ansCRR_EUput)"
   ]
  },
  {
   "cell_type": "markdown",
   "metadata": {},
   "source": [
    "## 輸出計算過程▼"
   ]
  },
  {
   "cell_type": "code",
   "execution_count": 21,
   "metadata": {},
   "outputs": [
    {
     "name": "stdout",
     "output_type": "stream",
     "text": [
      "159.99999999999994 \n",
      "239.99999999999997 79.99999999999997 \n",
      "360.00000000000006 119.99999999999997 39.99999999999998 \n",
      "539.9999999999997 180.0 59.999999999999986 19.999999999999996 \n"
     ]
    }
   ],
   "source": [
    "# print the process(stock price)\n",
    "for i in range(len(S)):\n",
    "    for j in range(1, len(S[i])):\n",
    "        print(S[i][j], end =' ')\n",
    "    print('')\n",
    "# for i in range(len(c)):\n",
    "#     print(c[i])"
   ]
  },
  {
   "cell_type": "code",
   "execution_count": 22,
   "metadata": {},
   "outputs": [
    {
     "name": "stdout",
     "output_type": "stream",
     "text": [
      "85.06944444444436 \n",
      "141.4583333333332 10.208333333333334 \n",
      "234.99999999999977 17.5 0.0 \n",
      "389.99999999999966 30.0 0 0 \n"
     ]
    }
   ],
   "source": [
    "# print the process(call value)\n",
    "for i in range(len(c)):\n",
    "    for j in range(1, len(c[i])):\n",
    "        print(c[i][j], end =' ')\n",
    "    print('')"
   ]
  },
  {
   "cell_type": "code",
   "execution_count": 23,
   "metadata": {},
   "outputs": [
    {
     "name": "stdout",
     "output_type": "stream",
     "text": [
      "11.875000000000007 \n",
      "5.6250000000000036 34.375000000000014 \n",
      "0.0 22.500000000000007 85.00000000000001 \n",
      "0 0 90.00000000000001 130.0 \n"
     ]
    }
   ],
   "source": [
    "# print the process(put value)\n",
    "for i in range(len(p)):\n",
    "    for j in range(1, len(p[i])):\n",
    "        print(p[i][j], end =' ')\n",
    "    print('')"
   ]
  }
 ],
 "metadata": {
  "kernelspec": {
   "display_name": "Python 3",
   "language": "python",
   "name": "python3"
  },
  "language_info": {
   "codemirror_mode": {
    "name": "ipython",
    "version": 3
   },
   "file_extension": ".py",
   "mimetype": "text/x-python",
   "name": "python",
   "nbconvert_exporter": "python",
   "pygments_lexer": "ipython3",
   "version": "3.7.3"
  }
 },
 "nbformat": 4,
 "nbformat_minor": 2
}
