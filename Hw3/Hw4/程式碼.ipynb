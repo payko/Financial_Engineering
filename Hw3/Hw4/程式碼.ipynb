{
 "cells": [
  {
   "cell_type": "code",
   "execution_count": 6,
   "metadata": {},
   "outputs": [],
   "source": [
    "from scipy.stats import norm\n",
    "import math"
   ]
  },
  {
   "cell_type": "code",
   "execution_count": 9,
   "metadata": {},
   "outputs": [
    {
     "name": "stdout",
     "output_type": "stream",
     "text": [
      "Please enter current stock price:75\n",
      "Please enter the volatility(segma):0.35\n",
      "How many times will the buyer get dividends?2\n",
      "Please enter the exact time that the dividend will be pay(counted in months)\n",
      "1\n",
      "4\n",
      "How much is the dividend every time:1\n",
      "Please enter the risk-free interest rate:0.06\n",
      "Please enter the exercise price:65\n",
      "Please enter the maturity(counted in months):6\n"
     ]
    }
   ],
   "source": [
    "S0 = float(input(\"Please enter current stock price:\"))\n",
    "sd = float(input(\"Please enter the volatility(segma):\"))\n",
    "times = int(input(\"How many times will the buyer get dividends?\"))\n",
    "print(\"Please enter the exact time that the dividend will be pay(counted in months)\")\n",
    "dividend_time = []\n",
    "for i in range(times):\n",
    "    dividend_time.append(int(input()))\n",
    "dividend = float(input(\"How much is the dividend every time:\"))\n",
    "r = float(input(\"Please enter the risk-free interest rate:\"))\n",
    "K = float(input(\"Please enter the exercise price:\"))\n",
    "T = float(input(\"Please enter the maturity(counted in months):\"))\n",
    "T = T/12"
   ]
  },
  {
   "cell_type": "code",
   "execution_count": 10,
   "metadata": {},
   "outputs": [
    {
     "name": "stdout",
     "output_type": "stream",
     "text": [
      "D = 1.9752111524994376\n",
      "^S = 73.02478884750056\n",
      "d1 = 0.7153362388600112 ,d2 =  0.46784886544471954\n",
      "Price of European call: 12.806183806810672\n",
      "Price of European put: 2.8603546399631448\n"
     ]
    }
   ],
   "source": [
    "D = 0\n",
    "for i in dividend_time:\n",
    "    D += dividend*math.exp(-r*i/12)\n",
    "print('D =', D)\n",
    "S = S0 - D\n",
    "print('^S =', S)\n",
    "\n",
    "d1 = (math.log(S / K) + (r + sd ** 2 / 2) * T) / (sd * math.sqrt(T))\n",
    "d2 = d1 - (sd * math.sqrt(T))\n",
    "print('d1 =', d1,',d2 = ', d2)\n",
    "##call\n",
    "optionValue_BS_call = S * norm.cdf(d1) - K * math.exp(-r * T) * norm.cdf(d2)\n",
    "##put\n",
    "optionValue_BS_put = K * math.exp(-r * T) * norm.cdf(-d2) - S * norm.cdf(-d1)\n",
    "print('Price of European call:', optionValue_BS_call)\n",
    "print('Price of European put:', optionValue_BS_put)"
   ]
  }
 ],
 "metadata": {
  "kernelspec": {
   "display_name": "Python 3",
   "language": "python",
   "name": "python3"
  },
  "language_info": {
   "codemirror_mode": {
    "name": "ipython",
    "version": 3
   },
   "file_extension": ".py",
   "mimetype": "text/x-python",
   "name": "python",
   "nbconvert_exporter": "python",
   "pygments_lexer": "ipython3",
   "version": "3.7.3"
  }
 },
 "nbformat": 4,
 "nbformat_minor": 2
}
