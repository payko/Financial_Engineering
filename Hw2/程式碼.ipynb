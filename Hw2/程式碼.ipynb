{
 "cells": [
  {
   "cell_type": "code",
   "execution_count": null,
   "metadata": {},
   "outputs": [],
   "source": [
    "class Bond():\n",
    "    def __init__(self, price, face, cp_rate, maturity, m):\n",
    "        self.price = price\n",
    "        self.face = face\n",
    "        self.cp_rate = cp_rate/100\n",
    "        self.maturity = maturity\n",
    "        self.m = m\n",
    "        self.coupon = face * cp_rate / m\n",
    "        self.ytm = cal_ytm(price, face, cp_rate, maturity, m, self.coupon)"
   ]
  },
  {
   "cell_type": "code",
   "execution_count": null,
   "metadata": {},
   "outputs": [],
   "source": [
    "def f(r, p, m, coupon, n):\n",
    "    pv = 0\n",
    "    pv = coupon * (1-(1+r/m)**(-n))/(r/m) + face*((1+r/m)**(-n))\n",
    "    ans = pv - p\n",
    "    return ans"
   ]
  },
  {
   "cell_type": "code",
   "execution_count": null,
   "metadata": {},
   "outputs": [],
   "source": [
    "def cal_ytm(price, face, cp_rate, maturity, m, coupon):\n",
    "    criterion = 0.000001\n",
    "    diff = criterion +1\n",
    "    a = criterion\n",
    "    b = cp_rate + 1\n",
    "    while diff >= criterion:\n",
    "        x = (a + b)/2\n",
    "        if f(a, price, m, coupon, maturity) * f(x, price, m, coupon, maturity) < 0:\n",
    "            b = x\n",
    "        else:\n",
    "            a = x\n",
    "        diff = b - a\n",
    "    return round(x, 2)"
   ]
  },
  {
   "cell_type": "markdown",
   "metadata": {},
   "source": [
    "## 請在此輸入債券資訊▼"
   ]
  },
  {
   "cell_type": "code",
   "execution_count": null,
   "metadata": {},
   "outputs": [],
   "source": [
    "# input data\n",
    "print('請按照到期年限輸入債券資訊(由短到長)')\n",
    "Bonds = []\n",
    "i = 0\n",
    "end = False\n",
    "while end == False:\n",
    "    price = float(input('請輸入債券市價:'))\n",
    "    face = float(input('請輸入票面價格:'))\n",
    "    cp_rate = float(input('請輸入票面利率(例10%請輸入10):'))\n",
    "    maturity = int(input('請輸入剩餘期數:'))\n",
    "    m = int(input('請輸入每年複利次數:'))\n",
    "    Bonds.append(Bond(price, face, cp_rate, maturity, m))\n",
    "    i += 1\n",
    "    cont = input('繼續輸入(Y)/停止輸入(N):')\n",
    "    if cont == 'N' or cont == 'n':\n",
    "        end = True\n",
    "    elif cont != 'Y' and cont != 'y':\n",
    "        cont = input('輸入錯誤，請輸入Y/N。繼續輸入(Y)/停止輸入(N):')"
   ]
  },
  {
   "cell_type": "code",
   "execution_count": null,
   "metadata": {},
   "outputs": [],
   "source": [
    "# show YTM\n",
    "for i in range(len(Bonds)):\n",
    "    print('第', i+1, '張債券的年化YTM為', Bonds[i].ytm * 100, '%')"
   ]
  },
  {
   "cell_type": "code",
   "execution_count": null,
   "metadata": {},
   "outputs": [],
   "source": [
    "def cal_spot(spot, bond):\n",
    "    pv = 0\n",
    "    for i in range(bond.maturity-1):\n",
    "        pv += bond.coupon/((1+spot[i]/2)**i)\n",
    "    last_CF = bond.coupon + bond.face\n",
    "    remain = bond.price - pv\n",
    "    next_spot = (last_CF/remain)**(1/bond.maturity) - 1\n",
    "    return next_spot*2"
   ]
  },
  {
   "cell_type": "code",
   "execution_count": null,
   "metadata": {},
   "outputs": [],
   "source": [
    "spot = []\n",
    "for i in range(len(Bonds)):\n",
    "    if Bonds[i].cp_rate == 0:\n",
    "        spot.append(Bonds[i].ytm)\n",
    "    else:\n",
    "        next_spot = cal_spot(spot, Bonds[i])\n",
    "        spot.append(round(next_spot, 2))"
   ]
  },
  {
   "cell_type": "code",
   "execution_count": null,
   "metadata": {},
   "outputs": [],
   "source": [
    "# show Spot\n",
    "for i in range(len(Bonds)):\n",
    "    print('第', i+1, '期的即期利率為', spot[i] * 100, '%')"
   ]
  },
  {
   "cell_type": "code",
   "execution_count": null,
   "metadata": {},
   "outputs": [],
   "source": [
    "def cal_forward(spot, i, j):\n",
    "    forward = (((1+spot[j])**j)/((1+spot[i])**i))**(1/(j-i)) - 1\n",
    "    return round(forward, 2)"
   ]
  },
  {
   "cell_type": "code",
   "execution_count": null,
   "metadata": {},
   "outputs": [],
   "source": [
    "forward = []\n",
    "for i in range(len(spot)):\n",
    "    new = []\n",
    "    for j in range(len(spot)):\n",
    "        if j < i:\n",
    "            new.append('-')\n",
    "        elif j == i:\n",
    "            new.append(spot[i])\n",
    "        else:\n",
    "            new.append(cal_forward(spot, i,j))\n",
    "    forward.append(new)"
   ]
  },
  {
   "cell_type": "code",
   "execution_count": null,
   "metadata": {
    "scrolled": true
   },
   "outputs": [],
   "source": [
    "# show Forward\n",
    "for i in range(len(forward)):\n",
    "    print(forward[i])"
   ]
  }
 ],
 "metadata": {
  "kernelspec": {
   "display_name": "Python 3",
   "language": "python",
   "name": "python3"
  },
  "language_info": {
   "codemirror_mode": {
    "name": "ipython",
    "version": 3
   },
   "file_extension": ".py",
   "mimetype": "text/x-python",
   "name": "python",
   "nbconvert_exporter": "python",
   "pygments_lexer": "ipython3",
   "version": "3.7.3"
  }
 },
 "nbformat": 4,
 "nbformat_minor": 2
}
